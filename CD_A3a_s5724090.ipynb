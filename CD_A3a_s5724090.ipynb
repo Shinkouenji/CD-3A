{
 "cells": [
  {
   "cell_type": "markdown",
   "id": "f7b98baf-b7da-4b52-baa3-904630bc5eb0",
   "metadata": {},
   "source": [
    "## Analyzing anime\n",
    "### Bente van Ingen s5724090\n",
    "In this notebook I will analyze a dataset about data from My Anime List (MAL), a popular website for tracking, rating and sharing opinions with others about anime's users have watched."
   ]
  },
  {
   "cell_type": "code",
   "execution_count": 1,
   "id": "f6615949-cff7-490e-a4dd-739b141915df",
   "metadata": {
    "tags": []
   },
   "outputs": [],
   "source": [
    "#first, I downloaded some useful libraries.\n",
    "import pandas as pd\n",
    "import os\n",
    "import seaborn as sns"
   ]
  },
  {
   "cell_type": "code",
   "execution_count": 23,
   "id": "403db209-1e78-4799-8b8d-d75f8a4f0c47",
   "metadata": {
    "tags": []
   },
   "outputs": [],
   "source": [
    "#I made sure python read the csv file with the dataset with all the anime's.\n",
    "#I deleted the columns with links to the website of MAL, since I will not be using those.\n",
    "animes=pd.read_csv(r\"C:\\Users\\bente\\Documents\\Master Groningen\\Collecting Data\\MAL_dataset\\animes.csv\", encoding='unicode_escape')\n",
    "animes=animes.drop(columns='link')\n",
    "animes=animes.drop(columns='img_url')"
   ]
  },
  {
   "cell_type": "code",
   "execution_count": 24,
   "id": "d188aaf7-3916-423f-aa50-1f90526a6f39",
   "metadata": {
    "tags": []
   },
   "outputs": [
    {
     "data": {
      "text/plain": [
       "Index(['uid', 'title', 'synopsis', 'genre', 'aired', 'episodes', 'members',\n",
       "       'popularity', 'ranked', 'score'],\n",
       "      dtype='object')"
      ]
     },
     "execution_count": 24,
     "metadata": {},
     "output_type": "execute_result"
    }
   ],
   "source": [
    "#Here are the column names for the table: animes\n",
    "#note that the difference between ranked and popularity is as follows: ranked is based on the users' scores.\n",
    "#popularity signifies how many users have the anime in their watch list.\n",
    "animes.columns"
   ]
  },
  {
   "cell_type": "code",
   "execution_count": 26,
   "id": "cd61fd89-9ca8-40ff-bd8a-029acbef7bf7",
   "metadata": {
    "tags": []
   },
   "outputs": [
    {
     "data": {
      "text/html": [
       "<div>\n",
       "<style scoped>\n",
       "    .dataframe tbody tr th:only-of-type {\n",
       "        vertical-align: middle;\n",
       "    }\n",
       "\n",
       "    .dataframe tbody tr th {\n",
       "        vertical-align: top;\n",
       "    }\n",
       "\n",
       "    .dataframe thead th {\n",
       "        text-align: right;\n",
       "    }\n",
       "</style>\n",
       "<table border=\"1\" class=\"dataframe\">\n",
       "  <thead>\n",
       "    <tr style=\"text-align: right;\">\n",
       "      <th></th>\n",
       "      <th>uid</th>\n",
       "      <th>title</th>\n",
       "      <th>synopsis</th>\n",
       "      <th>genre</th>\n",
       "      <th>aired</th>\n",
       "      <th>episodes</th>\n",
       "      <th>members</th>\n",
       "      <th>popularity</th>\n",
       "      <th>ranked</th>\n",
       "      <th>score</th>\n",
       "    </tr>\n",
       "  </thead>\n",
       "  <tbody>\n",
       "    <tr>\n",
       "      <th>0</th>\n",
       "      <td>28891</td>\n",
       "      <td>Haikyuu!! Second Season</td>\n",
       "      <td>Following their participation at the Inter-Hig...</td>\n",
       "      <td>['Comedy', 'Sports', 'Drama', 'School', 'Shoun...</td>\n",
       "      <td>Oct 4, 2015 to Mar 27, 2016</td>\n",
       "      <td>25.0</td>\n",
       "      <td>489888</td>\n",
       "      <td>141</td>\n",
       "      <td>25.0</td>\n",
       "      <td>8.82</td>\n",
       "    </tr>\n",
       "    <tr>\n",
       "      <th>1</th>\n",
       "      <td>23273</td>\n",
       "      <td>Shigatsu wa Kimi no Uso</td>\n",
       "      <td>Music accompanies the path of the human metron...</td>\n",
       "      <td>['Drama', 'Music', 'Romance', 'School', 'Shoun...</td>\n",
       "      <td>Oct 10, 2014 to Mar 20, 2015</td>\n",
       "      <td>22.0</td>\n",
       "      <td>995473</td>\n",
       "      <td>28</td>\n",
       "      <td>24.0</td>\n",
       "      <td>8.83</td>\n",
       "    </tr>\n",
       "    <tr>\n",
       "      <th>2</th>\n",
       "      <td>34599</td>\n",
       "      <td>Made in Abyss</td>\n",
       "      <td>The Abyssâa gaping chasm stretching down int...</td>\n",
       "      <td>['Sci-Fi', 'Adventure', 'Mystery', 'Drama', 'F...</td>\n",
       "      <td>Jul 7, 2017 to Sep 29, 2017</td>\n",
       "      <td>13.0</td>\n",
       "      <td>581663</td>\n",
       "      <td>98</td>\n",
       "      <td>23.0</td>\n",
       "      <td>8.83</td>\n",
       "    </tr>\n",
       "    <tr>\n",
       "      <th>3</th>\n",
       "      <td>5114</td>\n",
       "      <td>Fullmetal Alchemist: Brotherhood</td>\n",
       "      <td>\"In order for something to be obtained, someth...</td>\n",
       "      <td>['Action', 'Military', 'Adventure', 'Comedy', ...</td>\n",
       "      <td>Apr 5, 2009 to Jul 4, 2010</td>\n",
       "      <td>64.0</td>\n",
       "      <td>1615084</td>\n",
       "      <td>4</td>\n",
       "      <td>1.0</td>\n",
       "      <td>9.23</td>\n",
       "    </tr>\n",
       "    <tr>\n",
       "      <th>4</th>\n",
       "      <td>31758</td>\n",
       "      <td>Kizumonogatari III: Reiketsu-hen</td>\n",
       "      <td>After helping revive the legendary vampire Kis...</td>\n",
       "      <td>['Action', 'Mystery', 'Supernatural', 'Vampire']</td>\n",
       "      <td>Jan 6, 2017</td>\n",
       "      <td>1.0</td>\n",
       "      <td>214621</td>\n",
       "      <td>502</td>\n",
       "      <td>22.0</td>\n",
       "      <td>8.83</td>\n",
       "    </tr>\n",
       "  </tbody>\n",
       "</table>\n",
       "</div>"
      ],
      "text/plain": [
       "     uid                             title  \\\n",
       "0  28891           Haikyuu!! Second Season   \n",
       "1  23273           Shigatsu wa Kimi no Uso   \n",
       "2  34599                     Made in Abyss   \n",
       "3   5114  Fullmetal Alchemist: Brotherhood   \n",
       "4  31758  Kizumonogatari III: Reiketsu-hen   \n",
       "\n",
       "                                            synopsis  \\\n",
       "0  Following their participation at the Inter-Hig...   \n",
       "1  Music accompanies the path of the human metron...   \n",
       "2  The Abyssâa gaping chasm stretching down int...   \n",
       "3  \"In order for something to be obtained, someth...   \n",
       "4  After helping revive the legendary vampire Kis...   \n",
       "\n",
       "                                               genre  \\\n",
       "0  ['Comedy', 'Sports', 'Drama', 'School', 'Shoun...   \n",
       "1  ['Drama', 'Music', 'Romance', 'School', 'Shoun...   \n",
       "2  ['Sci-Fi', 'Adventure', 'Mystery', 'Drama', 'F...   \n",
       "3  ['Action', 'Military', 'Adventure', 'Comedy', ...   \n",
       "4   ['Action', 'Mystery', 'Supernatural', 'Vampire']   \n",
       "\n",
       "                          aired  episodes  members  popularity  ranked  score  \n",
       "0   Oct 4, 2015 to Mar 27, 2016      25.0   489888         141    25.0   8.82  \n",
       "1  Oct 10, 2014 to Mar 20, 2015      22.0   995473          28    24.0   8.83  \n",
       "2   Jul 7, 2017 to Sep 29, 2017      13.0   581663          98    23.0   8.83  \n",
       "3    Apr 5, 2009 to Jul 4, 2010      64.0  1615084           4     1.0   9.23  \n",
       "4                   Jan 6, 2017       1.0   214621         502    22.0   8.83  "
      ]
     },
     "execution_count": 26,
     "metadata": {},
     "output_type": "execute_result"
    }
   ],
   "source": [
    "#Here you can see some entries in the dataset\n",
    "animes.head(5)"
   ]
  },
  {
   "cell_type": "code",
   "execution_count": 31,
   "id": "3ec0f84b-010c-4eef-bb3e-7658d7be7ee4",
   "metadata": {
    "tags": []
   },
   "outputs": [],
   "source": [
    "#I repeated the process for the profiles file and got rid of the column with links to the MAL website\n",
    "profiles=pd.read_csv(r\"C:\\Users\\bente\\Documents\\Master Groningen\\Collecting Data\\MAL_dataset\\profiles.csv\", encoding='unicode_escape')\n",
    "profiles=profiles.drop(columns='link')"
   ]
  },
  {
   "cell_type": "code",
   "execution_count": 32,
   "id": "f28606b9-3708-41c0-b5be-a6e3d36b9080",
   "metadata": {
    "tags": []
   },
   "outputs": [
    {
     "data": {
      "text/plain": [
       "Index(['profile', 'gender', 'birthday', 'favorites_anime'], dtype='object')"
      ]
     },
     "execution_count": 32,
     "metadata": {},
     "output_type": "execute_result"
    }
   ],
   "source": [
    "#Here are the column names for the table: profiles\n",
    "profiles.columns"
   ]
  },
  {
   "cell_type": "code",
   "execution_count": 33,
   "id": "248b5b5e-ccb3-4a7d-8949-00ca7ca8b3e3",
   "metadata": {
    "tags": []
   },
   "outputs": [
    {
     "data": {
      "text/html": [
       "<div>\n",
       "<style scoped>\n",
       "    .dataframe tbody tr th:only-of-type {\n",
       "        vertical-align: middle;\n",
       "    }\n",
       "\n",
       "    .dataframe tbody tr th {\n",
       "        vertical-align: top;\n",
       "    }\n",
       "\n",
       "    .dataframe thead th {\n",
       "        text-align: right;\n",
       "    }\n",
       "</style>\n",
       "<table border=\"1\" class=\"dataframe\">\n",
       "  <thead>\n",
       "    <tr style=\"text-align: right;\">\n",
       "      <th></th>\n",
       "      <th>profile</th>\n",
       "      <th>gender</th>\n",
       "      <th>birthday</th>\n",
       "      <th>favorites_anime</th>\n",
       "    </tr>\n",
       "  </thead>\n",
       "  <tbody>\n",
       "    <tr>\n",
       "      <th>0</th>\n",
       "      <td>DesolatePsyche</td>\n",
       "      <td>Male</td>\n",
       "      <td>Oct 2, 1994</td>\n",
       "      <td>['33352', '25013', '5530', '33674', '1482', '2...</td>\n",
       "    </tr>\n",
       "    <tr>\n",
       "      <th>1</th>\n",
       "      <td>baekbeans</td>\n",
       "      <td>Female</td>\n",
       "      <td>Nov 10, 2000</td>\n",
       "      <td>['11061', '31964', '853', '20583', '918', '925...</td>\n",
       "    </tr>\n",
       "    <tr>\n",
       "      <th>2</th>\n",
       "      <td>skrn</td>\n",
       "      <td>NaN</td>\n",
       "      <td>NaN</td>\n",
       "      <td>['918', '2904', '11741', '17074', '23273', '32...</td>\n",
       "    </tr>\n",
       "    <tr>\n",
       "      <th>3</th>\n",
       "      <td>edgewalker00</td>\n",
       "      <td>Male</td>\n",
       "      <td>Sep 5</td>\n",
       "      <td>['5680', '849', '2904', '3588', '37349']</td>\n",
       "    </tr>\n",
       "    <tr>\n",
       "      <th>4</th>\n",
       "      <td>aManOfCulture99</td>\n",
       "      <td>Male</td>\n",
       "      <td>Oct 30, 1999</td>\n",
       "      <td>['4181', '7791', '9617', '5680', '2167', '4382...</td>\n",
       "    </tr>\n",
       "  </tbody>\n",
       "</table>\n",
       "</div>"
      ],
      "text/plain": [
       "           profile  gender      birthday  \\\n",
       "0   DesolatePsyche    Male   Oct 2, 1994   \n",
       "1        baekbeans  Female  Nov 10, 2000   \n",
       "2             skrn     NaN           NaN   \n",
       "3     edgewalker00    Male         Sep 5   \n",
       "4  aManOfCulture99    Male  Oct 30, 1999   \n",
       "\n",
       "                                     favorites_anime  \n",
       "0  ['33352', '25013', '5530', '33674', '1482', '2...  \n",
       "1  ['11061', '31964', '853', '20583', '918', '925...  \n",
       "2  ['918', '2904', '11741', '17074', '23273', '32...  \n",
       "3           ['5680', '849', '2904', '3588', '37349']  \n",
       "4  ['4181', '7791', '9617', '5680', '2167', '4382...  "
      ]
     },
     "execution_count": 33,
     "metadata": {},
     "output_type": "execute_result"
    }
   ],
   "source": [
    "profiles.head(5)"
   ]
  },
  {
   "cell_type": "code",
   "execution_count": 35,
   "id": "a63f5dd0-6f55-4c40-9c84-a54bec99d878",
   "metadata": {
    "tags": []
   },
   "outputs": [],
   "source": [
    "#I repeated the process for the reviews file and got rid of the columns I will not use. 'text' was empty so I deleted it.\n",
    "reviews=pd.read_csv(r\"C:\\Users\\bente\\Documents\\Master Groningen\\Collecting Data\\MAL_dataset\\reviews.csv\", encoding='utf-8')\n",
    "reviews=reviews.drop(columns='link')\n",
    "reviews=reviews.drop(columns='text')"
   ]
  },
  {
   "cell_type": "code",
   "execution_count": 36,
   "id": "a6a186cd-9083-4dd6-b638-89f81ba7c6bd",
   "metadata": {
    "tags": []
   },
   "outputs": [
    {
     "data": {
      "text/plain": [
       "Index(['uid', 'profile', 'anime_uid', 'score', 'scores'], dtype='object')"
      ]
     },
     "execution_count": 36,
     "metadata": {},
     "output_type": "execute_result"
    }
   ],
   "source": [
    "#Here are the column names for the table: reviews\n",
    "#Note that 'scores' is a more elaborate version of score\n",
    "reviews.columns"
   ]
  },
  {
   "cell_type": "code",
   "execution_count": 38,
   "id": "d5446b09-3e90-4843-a1fd-e93381420da4",
   "metadata": {
    "tags": []
   },
   "outputs": [
    {
     "data": {
      "text/html": [
       "<div>\n",
       "<style scoped>\n",
       "    .dataframe tbody tr th:only-of-type {\n",
       "        vertical-align: middle;\n",
       "    }\n",
       "\n",
       "    .dataframe tbody tr th {\n",
       "        vertical-align: top;\n",
       "    }\n",
       "\n",
       "    .dataframe thead th {\n",
       "        text-align: right;\n",
       "    }\n",
       "</style>\n",
       "<table border=\"1\" class=\"dataframe\">\n",
       "  <thead>\n",
       "    <tr style=\"text-align: right;\">\n",
       "      <th></th>\n",
       "      <th>uid</th>\n",
       "      <th>profile</th>\n",
       "      <th>anime_uid</th>\n",
       "      <th>score</th>\n",
       "      <th>scores</th>\n",
       "    </tr>\n",
       "  </thead>\n",
       "  <tbody>\n",
       "    <tr>\n",
       "      <th>0</th>\n",
       "      <td>255938</td>\n",
       "      <td>DesolatePsyche</td>\n",
       "      <td>34096</td>\n",
       "      <td>8</td>\n",
       "      <td>{'Overall': '8', 'Story': '8', 'Animation': '8...</td>\n",
       "    </tr>\n",
       "    <tr>\n",
       "      <th>1</th>\n",
       "      <td>259117</td>\n",
       "      <td>baekbeans</td>\n",
       "      <td>34599</td>\n",
       "      <td>10</td>\n",
       "      <td>{'Overall': '10', 'Story': '10', 'Animation': ...</td>\n",
       "    </tr>\n",
       "    <tr>\n",
       "      <th>2</th>\n",
       "      <td>253664</td>\n",
       "      <td>skrn</td>\n",
       "      <td>28891</td>\n",
       "      <td>7</td>\n",
       "      <td>{'Overall': '7', 'Story': '7', 'Animation': '9...</td>\n",
       "    </tr>\n",
       "    <tr>\n",
       "      <th>3</th>\n",
       "      <td>8254</td>\n",
       "      <td>edgewalker00</td>\n",
       "      <td>2904</td>\n",
       "      <td>9</td>\n",
       "      <td>{'Overall': '9', 'Story': '9', 'Animation': '9...</td>\n",
       "    </tr>\n",
       "    <tr>\n",
       "      <th>4</th>\n",
       "      <td>291149</td>\n",
       "      <td>aManOfCulture99</td>\n",
       "      <td>4181</td>\n",
       "      <td>10</td>\n",
       "      <td>{'Overall': '10', 'Story': '10', 'Animation': ...</td>\n",
       "    </tr>\n",
       "  </tbody>\n",
       "</table>\n",
       "</div>"
      ],
      "text/plain": [
       "      uid          profile  anime_uid  score  \\\n",
       "0  255938   DesolatePsyche      34096      8   \n",
       "1  259117        baekbeans      34599     10   \n",
       "2  253664             skrn      28891      7   \n",
       "3    8254     edgewalker00       2904      9   \n",
       "4  291149  aManOfCulture99       4181     10   \n",
       "\n",
       "                                              scores  \n",
       "0  {'Overall': '8', 'Story': '8', 'Animation': '8...  \n",
       "1  {'Overall': '10', 'Story': '10', 'Animation': ...  \n",
       "2  {'Overall': '7', 'Story': '7', 'Animation': '9...  \n",
       "3  {'Overall': '9', 'Story': '9', 'Animation': '9...  \n",
       "4  {'Overall': '10', 'Story': '10', 'Animation': ...  "
      ]
     },
     "execution_count": 38,
     "metadata": {},
     "output_type": "execute_result"
    }
   ],
   "source": [
    "#here are the first 5 rows of the dataset with reviews\n",
    "reviews.head(5)"
   ]
  },
  {
   "cell_type": "code",
   "execution_count": 39,
   "id": "0e09e572-68ff-4ca5-94ad-10effcabdb95",
   "metadata": {
    "tags": []
   },
   "outputs": [],
   "source": [
    "#Lastly I made a table where I combine all 3\n",
    "#First I merged the reviews and anime tables on the mutual column 'uid'\n",
    "anime_reviews=pd.merge(reviews, animes, on='uid')\n",
    "#Then I merged that table with profiles on the mutual column 'profile'\n",
    "all_tables=pd.merge(anime_reviews, profiles, on='profile')\n",
    "#And I changed column names that had an imbiguous meaning \n",
    "all_tables= all_tables.rename(columns={'score_x': 'user score',\n",
    "'score_y': 'platform_score'})"
   ]
  },
  {
   "cell_type": "code",
   "execution_count": 40,
   "id": "9613eaec-8190-483a-ad8f-58af69478c67",
   "metadata": {
    "tags": []
   },
   "outputs": [
    {
     "data": {
      "text/plain": [
       "Index(['uid', 'profile', 'anime_uid', 'user score', 'scores', 'title',\n",
       "       'synopsis', 'genre', 'aired', 'episodes', 'members', 'popularity',\n",
       "       'ranked', 'platform_score', 'gender', 'birthday', 'favorites_anime'],\n",
       "      dtype='object')"
      ]
     },
     "execution_count": 40,
     "metadata": {},
     "output_type": "execute_result"
    }
   ],
   "source": [
    "#These are all the columns in this dataset\n",
    "all_tables.columns"
   ]
  },
  {
   "cell_type": "code",
   "execution_count": 42,
   "id": "d4ac3e3a-adef-40d4-a72b-81a94ad8b37d",
   "metadata": {
    "tags": []
   },
   "outputs": [
    {
     "data": {
      "text/html": [
       "<div>\n",
       "<style scoped>\n",
       "    .dataframe tbody tr th:only-of-type {\n",
       "        vertical-align: middle;\n",
       "    }\n",
       "\n",
       "    .dataframe tbody tr th {\n",
       "        vertical-align: top;\n",
       "    }\n",
       "\n",
       "    .dataframe thead th {\n",
       "        text-align: right;\n",
       "    }\n",
       "</style>\n",
       "<table border=\"1\" class=\"dataframe\">\n",
       "  <thead>\n",
       "    <tr style=\"text-align: right;\">\n",
       "      <th></th>\n",
       "      <th>uid</th>\n",
       "      <th>profile</th>\n",
       "      <th>anime_uid</th>\n",
       "      <th>user score</th>\n",
       "      <th>scores</th>\n",
       "      <th>title</th>\n",
       "      <th>synopsis</th>\n",
       "      <th>genre</th>\n",
       "      <th>aired</th>\n",
       "      <th>episodes</th>\n",
       "      <th>members</th>\n",
       "      <th>popularity</th>\n",
       "      <th>ranked</th>\n",
       "      <th>platform_score</th>\n",
       "      <th>gender</th>\n",
       "      <th>birthday</th>\n",
       "      <th>favorites_anime</th>\n",
       "    </tr>\n",
       "  </thead>\n",
       "  <tbody>\n",
       "    <tr>\n",
       "      <th>0</th>\n",
       "      <td>29323</td>\n",
       "      <td>Slushpuppy282</td>\n",
       "      <td>7588</td>\n",
       "      <td>7</td>\n",
       "      <td>{'Overall': '7', 'Story': '7', 'Animation': '6...</td>\n",
       "      <td>Oyaji no, Imo no Kamisama.</td>\n",
       "      <td>A man wanders into a liquor store and sees a f...</td>\n",
       "      <td>['Slice of Life']</td>\n",
       "      <td>Dec 31, 2014</td>\n",
       "      <td>1.0</td>\n",
       "      <td>360</td>\n",
       "      <td>11732</td>\n",
       "      <td>8664.0</td>\n",
       "      <td>5.9</td>\n",
       "      <td>Female</td>\n",
       "      <td>Dec 10, 1990</td>\n",
       "      <td>['407', '3588', '177', '1604', '269']</td>\n",
       "    </tr>\n",
       "    <tr>\n",
       "      <th>1</th>\n",
       "      <td>29323</td>\n",
       "      <td>Slushpuppy282</td>\n",
       "      <td>7588</td>\n",
       "      <td>7</td>\n",
       "      <td>{'Overall': '7', 'Story': '7', 'Animation': '6...</td>\n",
       "      <td>Oyaji no, Imo no Kamisama.</td>\n",
       "      <td>A man wanders into a liquor store and sees a f...</td>\n",
       "      <td>['Slice of Life']</td>\n",
       "      <td>Dec 31, 2014</td>\n",
       "      <td>1.0</td>\n",
       "      <td>360</td>\n",
       "      <td>11732</td>\n",
       "      <td>8664.0</td>\n",
       "      <td>5.9</td>\n",
       "      <td>Female</td>\n",
       "      <td>Dec 10, 1990</td>\n",
       "      <td>['407', '3588', '177', '1604', '269']</td>\n",
       "    </tr>\n",
       "    <tr>\n",
       "      <th>2</th>\n",
       "      <td>29323</td>\n",
       "      <td>Slushpuppy282</td>\n",
       "      <td>7588</td>\n",
       "      <td>7</td>\n",
       "      <td>{'Overall': '7', 'Story': '7', 'Animation': '6...</td>\n",
       "      <td>Oyaji no, Imo no Kamisama.</td>\n",
       "      <td>A man wanders into a liquor store and sees a f...</td>\n",
       "      <td>['Slice of Life']</td>\n",
       "      <td>Dec 31, 2014</td>\n",
       "      <td>1.0</td>\n",
       "      <td>360</td>\n",
       "      <td>11732</td>\n",
       "      <td>8664.0</td>\n",
       "      <td>5.9</td>\n",
       "      <td>Female</td>\n",
       "      <td>Dec 10, 1990</td>\n",
       "      <td>['407', '3588', '177', '1604', '269']</td>\n",
       "    </tr>\n",
       "    <tr>\n",
       "      <th>3</th>\n",
       "      <td>29323</td>\n",
       "      <td>Slushpuppy282</td>\n",
       "      <td>7588</td>\n",
       "      <td>7</td>\n",
       "      <td>{'Overall': '7', 'Story': '7', 'Animation': '6...</td>\n",
       "      <td>Oyaji no, Imo no Kamisama.</td>\n",
       "      <td>A man wanders into a liquor store and sees a f...</td>\n",
       "      <td>['Slice of Life']</td>\n",
       "      <td>Dec 31, 2014</td>\n",
       "      <td>1.0</td>\n",
       "      <td>360</td>\n",
       "      <td>11732</td>\n",
       "      <td>8664.0</td>\n",
       "      <td>5.9</td>\n",
       "      <td>Female</td>\n",
       "      <td>Dec 10, 1990</td>\n",
       "      <td>['407', '3588', '177', '1604', '269']</td>\n",
       "    </tr>\n",
       "    <tr>\n",
       "      <th>4</th>\n",
       "      <td>30968</td>\n",
       "      <td>ParaParaJMo</td>\n",
       "      <td>1253</td>\n",
       "      <td>9</td>\n",
       "      <td>{'Overall': '9', 'Story': '9', 'Animation': '9...</td>\n",
       "      <td>Kokoro no Catchball</td>\n",
       "      <td>An educational anime about the importance of h...</td>\n",
       "      <td>['Kids', 'Sports']</td>\n",
       "      <td>2005</td>\n",
       "      <td>1.0</td>\n",
       "      <td>100</td>\n",
       "      <td>15323</td>\n",
       "      <td>12764.0</td>\n",
       "      <td>6.7</td>\n",
       "      <td>Male</td>\n",
       "      <td>Jun 24, 1984</td>\n",
       "      <td>['1362', '263', '81', '2402', '85', '37991']</td>\n",
       "    </tr>\n",
       "  </tbody>\n",
       "</table>\n",
       "</div>"
      ],
      "text/plain": [
       "     uid        profile  anime_uid  user score  \\\n",
       "0  29323  Slushpuppy282       7588           7   \n",
       "1  29323  Slushpuppy282       7588           7   \n",
       "2  29323  Slushpuppy282       7588           7   \n",
       "3  29323  Slushpuppy282       7588           7   \n",
       "4  30968    ParaParaJMo       1253           9   \n",
       "\n",
       "                                              scores  \\\n",
       "0  {'Overall': '7', 'Story': '7', 'Animation': '6...   \n",
       "1  {'Overall': '7', 'Story': '7', 'Animation': '6...   \n",
       "2  {'Overall': '7', 'Story': '7', 'Animation': '6...   \n",
       "3  {'Overall': '7', 'Story': '7', 'Animation': '6...   \n",
       "4  {'Overall': '9', 'Story': '9', 'Animation': '9...   \n",
       "\n",
       "                        title  \\\n",
       "0  Oyaji no, Imo no Kamisama.   \n",
       "1  Oyaji no, Imo no Kamisama.   \n",
       "2  Oyaji no, Imo no Kamisama.   \n",
       "3  Oyaji no, Imo no Kamisama.   \n",
       "4         Kokoro no Catchball   \n",
       "\n",
       "                                            synopsis               genre  \\\n",
       "0  A man wanders into a liquor store and sees a f...   ['Slice of Life']   \n",
       "1  A man wanders into a liquor store and sees a f...   ['Slice of Life']   \n",
       "2  A man wanders into a liquor store and sees a f...   ['Slice of Life']   \n",
       "3  A man wanders into a liquor store and sees a f...   ['Slice of Life']   \n",
       "4  An educational anime about the importance of h...  ['Kids', 'Sports']   \n",
       "\n",
       "          aired  episodes  members  popularity   ranked  platform_score  \\\n",
       "0  Dec 31, 2014       1.0      360       11732   8664.0             5.9   \n",
       "1  Dec 31, 2014       1.0      360       11732   8664.0             5.9   \n",
       "2  Dec 31, 2014       1.0      360       11732   8664.0             5.9   \n",
       "3  Dec 31, 2014       1.0      360       11732   8664.0             5.9   \n",
       "4          2005       1.0      100       15323  12764.0             6.7   \n",
       "\n",
       "   gender      birthday                               favorites_anime  \n",
       "0  Female  Dec 10, 1990         ['407', '3588', '177', '1604', '269']  \n",
       "1  Female  Dec 10, 1990         ['407', '3588', '177', '1604', '269']  \n",
       "2  Female  Dec 10, 1990         ['407', '3588', '177', '1604', '269']  \n",
       "3  Female  Dec 10, 1990         ['407', '3588', '177', '1604', '269']  \n",
       "4    Male  Jun 24, 1984  ['1362', '263', '81', '2402', '85', '37991']  "
      ]
     },
     "execution_count": 42,
     "metadata": {},
     "output_type": "execute_result"
    }
   ],
   "source": [
    "#here are the first 5 rows of the merged version of all tables\n",
    "all_tables.head(5)"
   ]
  },
  {
   "cell_type": "code",
   "execution_count": 274,
   "id": "c6a817c1-5a4e-42f1-b9bc-3a79f9cba454",
   "metadata": {
    "tags": []
   },
   "outputs": [
    {
     "name": "stdout",
     "output_type": "stream",
     "text": [
      "{'Comedy': 6461, 'Sports': 811, 'Drama': 3004, 'School': 1912, 'Shounen': 2322, 'Music': 1993, 'Romance': 2152, 'Sci-Fi': 2832, 'Adventure': 3143, 'Mystery': 874, 'Fantasy': 3466, 'Action': 4215, 'Military': 678, 'Magic': 1174, 'Supernatural': 1719, 'Vampire': 165, 'Slice of Life': 2056, 'Demons': 605, 'Historical': 1218, 'Super Power': 716, 'Mecha': 1197, 'Parody': 702, 'Samurai': 238, 'Seinen': 982, 'Police': 301, 'Psychological': 415, 'Josei': 115, 'Space': 564, 'Kids': 2549, 'Shoujo Ai': 87, 'Ecchi': 805, 'Shoujo': 788, 'Horror': 511, 'Shounen Ai': 113, 'Cars': 133, 'Martial Arts': 424, 'Game': 395, 'Thriller': 161, 'Dementia': 419, 'Harem': 435, 'Hentai': 2574, 'Yaoi': 78, 'Yuri': 79}\n"
     ]
    }
   ],
   "source": [
    "#Since the values of the genre column in animes are lists in which the genres are surrounded by apostrophes, I used .apply(eval) to itterate over the genres.\n",
    "# you can read more about lists as values here: https://towardsdatascience.com/dealing-with-list-values-in-pandas-dataframes-a177e534f173\n",
    "anime_genres=animes['genre'].apply(eval)\n",
    "def get_genres(column):\n",
    "    genre_dic={}\n",
    "    for list in column:\n",
    "        for genre in list:\n",
    "            if genre not in genre_dic:\n",
    "                genre_dic[genre]= 0\n",
    "            genre_dic[genre]+= 1\n",
    "    return genre_dic\n",
    "frequencies_genres=get_genres(anime_genres)\n",
    "print(frequencies_genres)"
   ]
  },
  {
   "cell_type": "markdown",
   "id": "cb726342-dfe1-49bf-ae22-9d4b2f42a245",
   "metadata": {},
   "source": [
    "## Research questions\n",
    " ### Question 1: How many genres are there on My Anime List? And which genre has the most anime's?"
   ]
  },
  {
   "cell_type": "markdown",
   "id": "ff9e3d10-d271-4836-a30b-c1775efc84ea",
   "metadata": {},
   "source": [
    "##### There are 43 genres in MAL, however, one anime can be a part of several genres. The genre 'Comedy' has the largest frequency, therefore being the most often made genre of anime."
   ]
  },
  {
   "cell_type": "code",
   "execution_count": 284,
   "id": "bf835d20-bba3-47f5-b695-d370851b4f30",
   "metadata": {
    "tags": []
   },
   "outputs": [
    {
     "data": {
      "text/plain": [
       "[('Comedy', 6461),\n",
       " ('Action', 4215),\n",
       " ('Fantasy', 3466),\n",
       " ('Adventure', 3143),\n",
       " ('Drama', 3004),\n",
       " ('Sci-Fi', 2832),\n",
       " ('Hentai', 2574),\n",
       " ('Kids', 2549),\n",
       " ('Shounen', 2322),\n",
       " ('Romance', 2152),\n",
       " ('Slice of Life', 2056),\n",
       " ('Music', 1993),\n",
       " ('School', 1912),\n",
       " ('Supernatural', 1719),\n",
       " ('Historical', 1218),\n",
       " ('Mecha', 1197),\n",
       " ('Magic', 1174),\n",
       " ('Seinen', 982),\n",
       " ('Mystery', 874),\n",
       " ('Sports', 811),\n",
       " ('Ecchi', 805),\n",
       " ('Shoujo', 788),\n",
       " ('Super Power', 716),\n",
       " ('Parody', 702),\n",
       " ('Military', 678),\n",
       " ('Demons', 605),\n",
       " ('Space', 564),\n",
       " ('Horror', 511),\n",
       " ('Harem', 435),\n",
       " ('Martial Arts', 424),\n",
       " ('Dementia', 419),\n",
       " ('Psychological', 415),\n",
       " ('Game', 395),\n",
       " ('Police', 301),\n",
       " ('Samurai', 238),\n",
       " ('Vampire', 165),\n",
       " ('Thriller', 161),\n",
       " ('Cars', 133),\n",
       " ('Josei', 115),\n",
       " ('Shounen Ai', 113),\n",
       " ('Shoujo Ai', 87),\n",
       " ('Yuri', 79),\n",
       " ('Yaoi', 78)]"
      ]
     },
     "execution_count": 284,
     "metadata": {},
     "output_type": "execute_result"
    }
   ],
   "source": [
    "len(frequencies_genres)\n",
    "sorted(frequencies_genres.items(), key=lambda x:x[1], reverse=True)"
   ]
  },
  {
   "cell_type": "markdown",
   "id": "93f35374-2e7c-4553-ba89-bb794da75772",
   "metadata": {},
   "source": [
    "### Question 2: Is there a correlation between the amount of episodes and the popularity?\n",
    "#### Note that with popularity, the lower the score, the more users have it in their watch list."
   ]
  },
  {
   "cell_type": "code",
   "execution_count": 291,
   "id": "91851f3b-4b55-458a-b9dd-72ad12e74850",
   "metadata": {
    "tags": []
   },
   "outputs": [
    {
     "data": {
      "text/plain": [
       "<seaborn.axisgrid.FacetGrid at 0x1c99e130d50>"
      ]
     },
     "execution_count": 291,
     "metadata": {},
     "output_type": "execute_result"
    },
    {
     "data": {
      "image/png": "[encoded data removed]",
      "text/plain": [
       "<Figure size 500x500 with 1 Axes>"
      ]
     },
     "metadata": {},
     "output_type": "display_data"
    }
   ],
   "source": [
    "#To test the hypothesis: 'Is there a correlation beteween amount of episodes and popularity?' I made a scatter plot.\n",
    "sns.relplot(x='episodes', y='popularity', data=animes)"
   ]
  },
  {
   "cell_type": "markdown",
   "id": "a09bf63f-461e-4da8-8060-946454ed6087",
   "metadata": {},
   "source": [
    "### Answer\n",
    "#### Anime's with a less amount of episodes seem to be slightly more added to the watch list of users. Many anime's have 12 episodes so this is not surprising. \n",
    "#### Furthermore we can see that anime's with between 500 and 2000 episodes are less popular. "
   ]
  },
  {
   "cell_type": "markdown",
   "id": "01987b51-2b4b-4521-ba43-11d3a3b5317c",
   "metadata": {},
   "source": [
    "### Now let's see if we can see a difference among the genders in voting behaviour\n",
    "#### It seems as though Male identifying users are more generous with their scores."
   ]
  },
  {
   "cell_type": "code",
   "execution_count": 334,
   "id": "291f763e-c2ca-48b7-a6b6-22db580cbf3f",
   "metadata": {
    "tags": []
   },
   "outputs": [
    {
     "data": {
      "text/plain": [
       "<seaborn.axisgrid.FacetGrid at 0x1c9f5907e50>"
      ]
     },
     "execution_count": 334,
     "metadata": {},
     "output_type": "execute_result"
    },
    {
     "data": {
      "image/png": "[encoded data removed]",
      "text/plain": [
       "<Figure size 500x1500 with 3 Axes>"
      ]
     },
     "metadata": {},
     "output_type": "display_data"
    }
   ],
   "source": [
    "sns.displot(x='user score', row='gender', data=all_tables)"
   ]
  }
 ],
 "metadata": {
  "kernelspec": {
   "display_name": "Python 3 (ipykernel)",
   "language": "python",
   "name": "python3"
  },
  "language_info": {
   "codemirror_mode": {
    "name": "ipython",
    "version": 3
   },
   "file_extension": ".py",
   "mimetype": "text/x-python",
   "name": "python",
   "nbconvert_exporter": "python",
   "pygments_lexer": "ipython3",
   "version": "3.11.4"
  }
 },
 "nbformat": 4,
 "nbformat_minor": 5
}
